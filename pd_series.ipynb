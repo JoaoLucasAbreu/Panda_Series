{
  "nbformat": 4,
  "nbformat_minor": 0,
  "metadata": {
    "colab": {
      "name": "pd_series.ipynb",
      "provenance": [],
      "collapsed_sections": [],
      "authorship_tag": "ABX9TyO7fA788XeL/7i8fSn4h09D",
      "include_colab_link": true
    },
    "kernelspec": {
      "name": "python3",
      "display_name": "Python 3"
    },
    "language_info": {
      "name": "python"
    }
  },
  "cells": [
    {
      "cell_type": "markdown",
      "metadata": {
        "id": "view-in-github",
        "colab_type": "text"
      },
      "source": [
        "<a href=\"https://colab.research.google.com/github/JoaoLucasAbreu/Panda_series/blob/main/pd_series.ipynb\" target=\"_parent\"><img src=\"https://colab.research.google.com/assets/colab-badge.svg\" alt=\"Open In Colab\"/></a>"
      ]
    },
    {
      "cell_type": "markdown",
      "source": [
        "Importing Pandas Library"
      ],
      "metadata": {
        "id": "YrWY-a1cmw8E"
      }
    },
    {
      "cell_type": "code",
      "execution_count": 6,
      "metadata": {
        "colab": {
          "base_uri": "https://localhost:8080/"
        },
        "id": "NxPsX70veIn9",
        "outputId": "6ccc7461-8381-445a-995e-1e3a273a2524"
      },
      "outputs": [
        {
          "output_type": "execute_result",
          "data": {
            "text/plain": [
              "1       Let´s\n",
              "5        Data\n",
              "1110        4\n",
              "80         tw\n",
              "dtype: object"
            ]
          },
          "metadata": {},
          "execution_count": 6
        }
      ],
      "source": [
        "import pandas as pd\n",
        "\n",
        "\n",
        "s1 = pd.Series([\"Let´s\", \"Data\", 4, \"tw\"], index=[1, 5 , 1110, 80])\n",
        "\n",
        "s1\n",
        "\n",
        "#index do not refer to the actual element position\n"
      ]
    },
    {
      "cell_type": "markdown",
      "source": [
        "Same Index for 2 or more elements"
      ],
      "metadata": {
        "id": "RTAcV-3Inx6v"
      }
    },
    {
      "cell_type": "code",
      "source": [
        "s2 = pd.Series([\"Let´s\", \"Data\", 4, \"tw\"], index=[0, 0, 1, 1222])\n",
        "\n",
        "s2[0]"
      ],
      "metadata": {
        "colab": {
          "base_uri": "https://localhost:8080/"
        },
        "id": "M3k8w1E8jgT2",
        "outputId": "998374d2-9b50-4196-de99-454b0b1ce377"
      },
      "execution_count": 11,
      "outputs": [
        {
          "output_type": "execute_result",
          "data": {
            "text/plain": [
              "0    Let´s\n",
              "0     Data\n",
              "dtype: object"
            ]
          },
          "metadata": {},
          "execution_count": 11
        }
      ]
    },
    {
      "cell_type": "markdown",
      "source": [
        "Type description "
      ],
      "metadata": {
        "id": "sfdpJqrxnYIU"
      }
    },
    {
      "cell_type": "code",
      "source": [
        "s1 = pd.Series([\"Hello\", \"Data\", \"Scientist\"])\n",
        "s2 = pd.Series([1, 2, 3])\n",
        "s3 = pd.Series([0.1, 0.2, 0.3])\n",
        "\n",
        "print(s1.dtype)\n",
        "print(s2.dtype)\n",
        "print(s3.dtype)"
      ],
      "metadata": {
        "colab": {
          "base_uri": "https://localhost:8080/"
        },
        "id": "fCsvmTVIj5_1",
        "outputId": "998df0b1-dce9-4e69-afec-c561a9a05c61"
      },
      "execution_count": 14,
      "outputs": [
        {
          "output_type": "stream",
          "name": "stdout",
          "text": [
            "object\n",
            "int64\n",
            "float64\n"
          ]
        }
      ]
    },
    {
      "cell_type": "markdown",
      "source": [
        "Type conversion"
      ],
      "metadata": {
        "id": "HCMrNRGck2YZ"
      }
    },
    {
      "cell_type": "code",
      "source": [
        "s2 = pd.Series([1, 2, 3])\n",
        "print(s2.dtype)\n",
        "\n",
        "#method astype for correct and possible type conversions\n",
        "s2 = s2.astype(float)\n",
        "print(s2.dtype)"
      ],
      "metadata": {
        "colab": {
          "base_uri": "https://localhost:8080/"
        },
        "id": "3aPD3TAvk1_Y",
        "outputId": "ee4f254d-f266-4a40-f8bd-931cf7d0cdfb"
      },
      "execution_count": 19,
      "outputs": [
        {
          "output_type": "stream",
          "name": "stdout",
          "text": [
            "int64\n",
            "float64\n"
          ]
        }
      ]
    },
    {
      "cell_type": "markdown",
      "source": [
        "Optional naming series"
      ],
      "metadata": {
        "id": "kW61R4rmlqhq"
      }
    },
    {
      "cell_type": "code",
      "source": [
        "s1 = pd.Series([\"Hello\", \"Data\", \"Scientist\"], name = \"Title\")\n",
        "\n",
        "s1"
      ],
      "metadata": {
        "colab": {
          "base_uri": "https://localhost:8080/"
        },
        "id": "gWdhXorol0z7",
        "outputId": "5a145e5c-730a-4eb0-b27f-25a3b5cfc018"
      },
      "execution_count": 17,
      "outputs": [
        {
          "output_type": "execute_result",
          "data": {
            "text/plain": [
              "0        Hello\n",
              "1         Data\n",
              "2    Scientist\n",
              "Name: Title, dtype: object"
            ]
          },
          "metadata": {},
          "execution_count": 17
        }
      ]
    }
  ]
}